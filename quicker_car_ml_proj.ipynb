{
 "cells": [
  {
   "cell_type": "code",
   "execution_count": 49,
   "id": "2d8cd029-2931-494a-b165-a72d10bd3f58",
   "metadata": {},
   "outputs": [],
   "source": [
    "import pandas as pd\n",
    "import numpy as np\n",
    "import pickle\n"
   ]
  },
  {
   "cell_type": "code",
   "execution_count": 50,
   "id": "59bb8efc-600a-4986-803f-6b4409a6779a",
   "metadata": {},
   "outputs": [
    {
     "data": {
      "text/html": [
       "<div>\n",
       "<style scoped>\n",
       "    .dataframe tbody tr th:only-of-type {\n",
       "        vertical-align: middle;\n",
       "    }\n",
       "\n",
       "    .dataframe tbody tr th {\n",
       "        vertical-align: top;\n",
       "    }\n",
       "\n",
       "    .dataframe thead th {\n",
       "        text-align: right;\n",
       "    }\n",
       "</style>\n",
       "<table border=\"1\" class=\"dataframe\">\n",
       "  <thead>\n",
       "    <tr style=\"text-align: right;\">\n",
       "      <th></th>\n",
       "      <th>name</th>\n",
       "      <th>company</th>\n",
       "      <th>year</th>\n",
       "      <th>Price</th>\n",
       "      <th>kms_driven</th>\n",
       "      <th>fuel_type</th>\n",
       "    </tr>\n",
       "  </thead>\n",
       "  <tbody>\n",
       "    <tr>\n",
       "      <th>0</th>\n",
       "      <td>Hyundai Santro Xing XO eRLX Euro III</td>\n",
       "      <td>Hyundai</td>\n",
       "      <td>2007</td>\n",
       "      <td>80,000</td>\n",
       "      <td>45,000 kms</td>\n",
       "      <td>Petrol</td>\n",
       "    </tr>\n",
       "    <tr>\n",
       "      <th>1</th>\n",
       "      <td>Mahindra Jeep CL550 MDI</td>\n",
       "      <td>Mahindra</td>\n",
       "      <td>2006</td>\n",
       "      <td>4,25,000</td>\n",
       "      <td>40 kms</td>\n",
       "      <td>Diesel</td>\n",
       "    </tr>\n",
       "    <tr>\n",
       "      <th>2</th>\n",
       "      <td>Maruti Suzuki Alto 800 Vxi</td>\n",
       "      <td>Maruti</td>\n",
       "      <td>2018</td>\n",
       "      <td>Ask For Price</td>\n",
       "      <td>22,000 kms</td>\n",
       "      <td>Petrol</td>\n",
       "    </tr>\n",
       "    <tr>\n",
       "      <th>3</th>\n",
       "      <td>Hyundai Grand i10 Magna 1.2 Kappa VTVT</td>\n",
       "      <td>Hyundai</td>\n",
       "      <td>2014</td>\n",
       "      <td>3,25,000</td>\n",
       "      <td>28,000 kms</td>\n",
       "      <td>Petrol</td>\n",
       "    </tr>\n",
       "    <tr>\n",
       "      <th>4</th>\n",
       "      <td>Ford EcoSport Titanium 1.5L TDCi</td>\n",
       "      <td>Ford</td>\n",
       "      <td>2014</td>\n",
       "      <td>5,75,000</td>\n",
       "      <td>36,000 kms</td>\n",
       "      <td>Diesel</td>\n",
       "    </tr>\n",
       "  </tbody>\n",
       "</table>\n",
       "</div>"
      ],
      "text/plain": [
       "                                     name   company  year          Price  \\\n",
       "0    Hyundai Santro Xing XO eRLX Euro III   Hyundai  2007         80,000   \n",
       "1                 Mahindra Jeep CL550 MDI  Mahindra  2006       4,25,000   \n",
       "2              Maruti Suzuki Alto 800 Vxi    Maruti  2018  Ask For Price   \n",
       "3  Hyundai Grand i10 Magna 1.2 Kappa VTVT   Hyundai  2014       3,25,000   \n",
       "4        Ford EcoSport Titanium 1.5L TDCi      Ford  2014       5,75,000   \n",
       "\n",
       "   kms_driven fuel_type  \n",
       "0  45,000 kms    Petrol  \n",
       "1      40 kms    Diesel  \n",
       "2  22,000 kms    Petrol  \n",
       "3  28,000 kms    Petrol  \n",
       "4  36,000 kms    Diesel  "
      ]
     },
     "execution_count": 50,
     "metadata": {},
     "output_type": "execute_result"
    }
   ],
   "source": [
    "df=pd.read_csv(\"quikr_car.csv\")\n",
    "df.head()"
   ]
  },
  {
   "cell_type": "code",
   "execution_count": 51,
   "id": "01b28fae-cf90-46b4-b5b7-b76eb3c3d0ae",
   "metadata": {},
   "outputs": [
    {
     "data": {
      "text/plain": [
       "(892, 6)"
      ]
     },
     "execution_count": 51,
     "metadata": {},
     "output_type": "execute_result"
    }
   ],
   "source": [
    "df.shape"
   ]
  },
  {
   "cell_type": "code",
   "execution_count": 52,
   "id": "1fe1a5d9-42a4-4e03-b041-339f23e42063",
   "metadata": {},
   "outputs": [
    {
     "data": {
      "text/plain": [
       "name           0\n",
       "company        0\n",
       "year           0\n",
       "Price          0\n",
       "kms_driven    52\n",
       "fuel_type     55\n",
       "dtype: int64"
      ]
     },
     "execution_count": 52,
     "metadata": {},
     "output_type": "execute_result"
    }
   ],
   "source": [
    "df.isnull().sum()"
   ]
  },
  {
   "cell_type": "code",
   "execution_count": 53,
   "id": "1f2bf4eb-d658-4f51-b020-968fa34398c6",
   "metadata": {},
   "outputs": [],
   "source": [
    "backup=df.copy()"
   ]
  },
  {
   "cell_type": "code",
   "execution_count": 54,
   "id": "5d3e46c4-4aff-4403-ad77-700fd35eee15",
   "metadata": {},
   "outputs": [
    {
     "name": "stdout",
     "output_type": "stream",
     "text": [
      "<class 'pandas.core.frame.DataFrame'>\n",
      "RangeIndex: 892 entries, 0 to 891\n",
      "Data columns (total 6 columns):\n",
      " #   Column      Non-Null Count  Dtype \n",
      "---  ------      --------------  ----- \n",
      " 0   name        892 non-null    object\n",
      " 1   company     892 non-null    object\n",
      " 2   year        892 non-null    object\n",
      " 3   Price       892 non-null    object\n",
      " 4   kms_driven  840 non-null    object\n",
      " 5   fuel_type   837 non-null    object\n",
      "dtypes: object(6)\n",
      "memory usage: 41.9+ KB\n"
     ]
    }
   ],
   "source": [
    "df.info()"
   ]
  },
  {
   "cell_type": "code",
   "execution_count": 55,
   "id": "e1f73ae9-6cdf-4614-b08c-d5dd53bb2f17",
   "metadata": {},
   "outputs": [],
   "source": [
    "df=df.dropna()"
   ]
  },
  {
   "cell_type": "code",
   "execution_count": 56,
   "id": "74ee5785-f140-494d-ac62-831dbcb99112",
   "metadata": {},
   "outputs": [
    {
     "data": {
      "text/plain": [
       "name          0\n",
       "company       0\n",
       "year          0\n",
       "Price         0\n",
       "kms_driven    0\n",
       "fuel_type     0\n",
       "dtype: int64"
      ]
     },
     "execution_count": 56,
     "metadata": {},
     "output_type": "execute_result"
    }
   ],
   "source": [
    "df.isnull().sum()"
   ]
  },
  {
   "cell_type": "code",
   "execution_count": 57,
   "id": "0a262a7b-923b-4635-bb65-91d160a6d6d1",
   "metadata": {},
   "outputs": [
    {
     "data": {
      "text/plain": [
       "array(['Audi', 'BMW', 'Chevrolet', 'Datsun', 'Fiat', 'Force', 'Ford',\n",
       "       'Hindustan', 'Honda', 'Hyundai', 'Jaguar', 'Jeep', 'Land',\n",
       "       'Mahindra', 'Maruti', 'Mercedes', 'Mini', 'Mitsubishi', 'Nissan',\n",
       "       'Renault', 'Skoda', 'Tata', 'Toyota', 'Volkswagen', 'Volvo'],\n",
       "      dtype=object)"
      ]
     },
     "execution_count": 57,
     "metadata": {},
     "output_type": "execute_result"
    }
   ],
   "source": [
    "np.unique(df.company)"
   ]
  },
  {
   "cell_type": "code",
   "execution_count": 58,
   "id": "c35ffe0e-0867-42d0-bbc8-5d6bff13c8eb",
   "metadata": {},
   "outputs": [
    {
     "data": {
      "text/plain": [
       "array(['1995', '2000', '2001', '2002', '2003', '2004', '2005', '2006',\n",
       "       '2007', '2008', '2009', '2010', '2011', '2012', '2013', '2014',\n",
       "       '2015', '2016', '2017', '2018', '2019'], dtype=object)"
      ]
     },
     "execution_count": 58,
     "metadata": {},
     "output_type": "execute_result"
    }
   ],
   "source": [
    "np.unique(df.year)"
   ]
  },
  {
   "cell_type": "code",
   "execution_count": 59,
   "id": "7058fba4-25a1-4a51-aff4-3791fb3f5c68",
   "metadata": {},
   "outputs": [],
   "source": [
    "df['year']=df['year'].astype(int)"
   ]
  },
  {
   "cell_type": "code",
   "execution_count": 60,
   "id": "bc6966c1-34cd-4257-8135-93d31e85281b",
   "metadata": {},
   "outputs": [
    {
     "name": "stdout",
     "output_type": "stream",
     "text": [
      "<class 'pandas.core.frame.DataFrame'>\n",
      "Index: 837 entries, 0 to 889\n",
      "Data columns (total 6 columns):\n",
      " #   Column      Non-Null Count  Dtype \n",
      "---  ------      --------------  ----- \n",
      " 0   name        837 non-null    object\n",
      " 1   company     837 non-null    object\n",
      " 2   year        837 non-null    int32 \n",
      " 3   Price       837 non-null    object\n",
      " 4   kms_driven  837 non-null    object\n",
      " 5   fuel_type   837 non-null    object\n",
      "dtypes: int32(1), object(5)\n",
      "memory usage: 42.5+ KB\n"
     ]
    }
   ],
   "source": [
    "df.info()"
   ]
  },
  {
   "cell_type": "code",
   "execution_count": 61,
   "id": "57b80223-f190-4333-98f5-0c0597031371",
   "metadata": {},
   "outputs": [
    {
     "data": {
      "text/plain": [
       "array(['1,00,000', '1,05,000', '1,10,000', '1,14,990', '1,15,000',\n",
       "       '1,20,000', '1,23,000', '1,25,000', '1,30,000', '1,35,000',\n",
       "       '1,40,000', '1,45,000', '1,49,000', '1,50,000', '1,55,000',\n",
       "       '1,55,555', '1,58,400', '1,59,000', '1,59,500', '1,60,000',\n",
       "       '1,62,000', '1,65,000', '1,68,000', '1,69,500', '1,69,999',\n",
       "       '1,70,000', '1,74,999', '1,75,000', '1,78,000', '1,79,000',\n",
       "       '1,79,999', '1,80,000', '1,82,000', '1,85,000', '1,88,000',\n",
       "       '1,89,000', '1,89,500', '1,89,700', '1,90,000', '1,95,000',\n",
       "       '1,99,000', '1,99,999', '10,00,000', '10,25,000', '10,65,000',\n",
       "       '10,74,999', '10,75,000', '11,30,000', '11,50,000', '12,00,000',\n",
       "       '12,25,000', '12,99,000', '13,50,000', '14,00,000', '14,75,000',\n",
       "       '14,90,000', '14,99,000', '15,00,000', '15,10,000', '15,25,000',\n",
       "       '15,40,000', '15,99,000', '16,00,000', '17,25,000', '18,50,000',\n",
       "       '18,91,111', '19,00,000', '2,00,000', '2,05,000', '2,09,000',\n",
       "       '2,10,000', '2,15,000', '2,19,000', '2,20,000', '2,24,999',\n",
       "       '2,25,000', '2,30,000', '2,35,000', '2,39,999', '2,40,000',\n",
       "       '2,44,999', '2,45,000', '2,49,999', '2,50,000', '2,51,111',\n",
       "       '2,55,000', '2,60,000', '2,65,000', '2,69,000', '2,70,000',\n",
       "       '2,74,999', '2,75,000', '2,78,000', '2,80,000', '2,84,999',\n",
       "       '2,85,000', '2,89,999', '2,90,000', '2,95,000', '2,99,000',\n",
       "       '2,99,999', '20,00,000', '21,00,000', '21,90,000', '23,90,000',\n",
       "       '28,00,000', '29,00,000', '3,00,000', '3,10,000', '3,11,000',\n",
       "       '3,15,000', '3,20,000', '3,24,999', '3,25,000', '3,29,500',\n",
       "       '3,30,000', '3,35,000', '3,40,000', '3,44,999', '3,45,000',\n",
       "       '3,49,999', '3,50,000', '3,51,000', '3,55,000', '3,60,000',\n",
       "       '3,65,000', '3,70,000', '3,72,000', '3,74,999', '3,75,000',\n",
       "       '3,79,000', '3,80,000', '3,81,000', '3,85,000', '3,89,700',\n",
       "       '3,90,000', '3,95,000', '3,99,000', '3,99,999', '30,000',\n",
       "       '31,00,000', '32,000', '35,000', '35,999', '39,999', '4,00,000',\n",
       "       '4,01,000', '4,01,919', '4,05,000', '4,10,000', '4,15,000',\n",
       "       '4,19,000', '4,24,000', '4,24,999', '4,25,000', '4,30,000',\n",
       "       '4,35,000', '4,44,999', '4,48,000', '4,48,999', '4,49,999',\n",
       "       '4,50,000', '4,65,000', '4,70,000', '4,74,999', '4,75,000',\n",
       "       '4,80,000', '4,85,000', '4,88,000', '4,89,999', '4,90,000',\n",
       "       '4,95,000', '4,98,000', '4,99,000', '4,99,999', '40,000', '42,000',\n",
       "       '45,000', '48,000', '49,000', '5,00,000', '5,00,001', '5,01,000',\n",
       "       '5,10,000', '5,19,000', '5,20,000', '5,24,999', '5,25,000',\n",
       "       '5,30,000', '5,35,000', '5,40,000', '5,44,999', '5,48,900',\n",
       "       '5,49,000', '5,49,900', '5,49,999', '5,50,000', '5,60,000',\n",
       "       '5,65,000', '5,68,500', '5,69,999', '5,70,000', '5,74,999',\n",
       "       '5,75,000', '5,80,000', '5,84,999', '5,90,000', '5,99,000',\n",
       "       '5,99,999', '50,500', '51,999', '52,000', '53,000', '55,000',\n",
       "       '57,000', '59,000', '6,00,000', '6,10,000', '6,15,000', '6,35,000',\n",
       "       '6,44,999', '6,49,999', '6,50,000', '6,75,000', '6,89,999',\n",
       "       '6,90,000', '6,99,000', '6,99,999', '60,000', '65,000', '68,000',\n",
       "       '69,999', '7,00,000', '7,01,000', '7,15,000', '7,25,000',\n",
       "       '7,30,000', '7,49,999', '7,50,000', '7,60,000', '7,70,000',\n",
       "       '7,90,000', '7,95,000', '7,99,999', '70,000', '71,000', '72,500',\n",
       "       '75,000', '8,00,000', '8,30,000', '8,49,999', '8,55,000',\n",
       "       '8,60,000', '8,65,000', '8,95,000', '8,99,000', '80,000',\n",
       "       '85,00,003', '85,000', '88,000', '9,00,000', '9,40,000',\n",
       "       '9,44,999', '9,50,000', '9,70,000', '9,84,999', '90,000', '90,001',\n",
       "       '95,000', '98,500', '99,000', '99,999', 'Ask For Price'],\n",
       "      dtype=object)"
      ]
     },
     "execution_count": 61,
     "metadata": {},
     "output_type": "execute_result"
    }
   ],
   "source": [
    "np.unique(df.Price)"
   ]
  },
  {
   "cell_type": "code",
   "execution_count": 62,
   "id": "43502e91-67e7-4df0-b40a-307cc86041bb",
   "metadata": {},
   "outputs": [],
   "source": [
    "df=df[df['Price']!='Ask For Price']"
   ]
  },
  {
   "cell_type": "code",
   "execution_count": 63,
   "id": "4cad00ec-bb7c-438f-a1e2-46eb1c2ad057",
   "metadata": {},
   "outputs": [],
   "source": [
    "df['Price']=df['Price'].str.replace(\",\",\"\").astype(int)"
   ]
  },
  {
   "cell_type": "code",
   "execution_count": 64,
   "id": "233a89c1-9c8b-4c26-8599-6830a2ec1c7e",
   "metadata": {},
   "outputs": [
    {
     "name": "stdout",
     "output_type": "stream",
     "text": [
      "<class 'pandas.core.frame.DataFrame'>\n",
      "Index: 816 entries, 0 to 889\n",
      "Data columns (total 6 columns):\n",
      " #   Column      Non-Null Count  Dtype \n",
      "---  ------      --------------  ----- \n",
      " 0   name        816 non-null    object\n",
      " 1   company     816 non-null    object\n",
      " 2   year        816 non-null    int32 \n",
      " 3   Price       816 non-null    int32 \n",
      " 4   kms_driven  816 non-null    object\n",
      " 5   fuel_type   816 non-null    object\n",
      "dtypes: int32(2), object(4)\n",
      "memory usage: 38.2+ KB\n"
     ]
    }
   ],
   "source": [
    "df.info()"
   ]
  },
  {
   "cell_type": "code",
   "execution_count": 65,
   "id": "c9cc6e67-a9f9-4fe1-830a-870f6d558b53",
   "metadata": {},
   "outputs": [
    {
     "data": {
      "text/plain": [
       "0       45000\n",
       "1          40\n",
       "3       28000\n",
       "4       36000\n",
       "6       41000\n",
       "        ...  \n",
       "883     50000\n",
       "885     30000\n",
       "886    132000\n",
       "888     27000\n",
       "889     40000\n",
       "Name: kms_driven, Length: 816, dtype: int32"
      ]
     },
     "execution_count": 65,
     "metadata": {},
     "output_type": "execute_result"
    }
   ],
   "source": [
    "df['kms_driven']=df['kms_driven'].str.split().str.get(0).str.replace(\",\",\"\").astype(int)\n",
    "df['kms_driven']"
   ]
  },
  {
   "cell_type": "code",
   "execution_count": 66,
   "id": "14499372-cc00-4cfe-8f62-82d3056a9055",
   "metadata": {},
   "outputs": [
    {
     "name": "stdout",
     "output_type": "stream",
     "text": [
      "<class 'pandas.core.frame.DataFrame'>\n",
      "Index: 816 entries, 0 to 889\n",
      "Data columns (total 6 columns):\n",
      " #   Column      Non-Null Count  Dtype \n",
      "---  ------      --------------  ----- \n",
      " 0   name        816 non-null    object\n",
      " 1   company     816 non-null    object\n",
      " 2   year        816 non-null    int32 \n",
      " 3   Price       816 non-null    int32 \n",
      " 4   kms_driven  816 non-null    int32 \n",
      " 5   fuel_type   816 non-null    object\n",
      "dtypes: int32(3), object(3)\n",
      "memory usage: 35.1+ KB\n"
     ]
    }
   ],
   "source": [
    "df.info()"
   ]
  },
  {
   "cell_type": "code",
   "execution_count": 67,
   "id": "f30ce1c4-6e98-4b34-9f7d-cb84cee01231",
   "metadata": {},
   "outputs": [
    {
     "data": {
      "text/plain": [
       "array(['Diesel', 'LPG', 'Petrol'], dtype=object)"
      ]
     },
     "execution_count": 67,
     "metadata": {},
     "output_type": "execute_result"
    }
   ],
   "source": [
    "np.unique(df.fuel_type)"
   ]
  },
  {
   "cell_type": "code",
   "execution_count": 68,
   "id": "96ff660e-b18e-490b-8348-dc6f38fbb45a",
   "metadata": {},
   "outputs": [
    {
     "data": {
      "text/plain": [
       "(816, 6)"
      ]
     },
     "execution_count": 68,
     "metadata": {},
     "output_type": "execute_result"
    }
   ],
   "source": [
    "df.shape"
   ]
  },
  {
   "cell_type": "code",
   "execution_count": 69,
   "id": "059ff190-b4dd-4d56-a9a3-1898f23724f9",
   "metadata": {},
   "outputs": [
    {
     "data": {
      "text/html": [
       "<div>\n",
       "<style scoped>\n",
       "    .dataframe tbody tr th:only-of-type {\n",
       "        vertical-align: middle;\n",
       "    }\n",
       "\n",
       "    .dataframe tbody tr th {\n",
       "        vertical-align: top;\n",
       "    }\n",
       "\n",
       "    .dataframe thead th {\n",
       "        text-align: right;\n",
       "    }\n",
       "</style>\n",
       "<table border=\"1\" class=\"dataframe\">\n",
       "  <thead>\n",
       "    <tr style=\"text-align: right;\">\n",
       "      <th></th>\n",
       "      <th>name</th>\n",
       "      <th>company</th>\n",
       "      <th>year</th>\n",
       "      <th>Price</th>\n",
       "      <th>kms_driven</th>\n",
       "      <th>fuel_type</th>\n",
       "    </tr>\n",
       "  </thead>\n",
       "  <tbody>\n",
       "    <tr>\n",
       "      <th>0</th>\n",
       "      <td>Hyundai Santro Xing XO eRLX Euro III</td>\n",
       "      <td>Hyundai</td>\n",
       "      <td>2007</td>\n",
       "      <td>80000</td>\n",
       "      <td>45000</td>\n",
       "      <td>Petrol</td>\n",
       "    </tr>\n",
       "    <tr>\n",
       "      <th>1</th>\n",
       "      <td>Mahindra Jeep CL550 MDI</td>\n",
       "      <td>Mahindra</td>\n",
       "      <td>2006</td>\n",
       "      <td>425000</td>\n",
       "      <td>40</td>\n",
       "      <td>Diesel</td>\n",
       "    </tr>\n",
       "    <tr>\n",
       "      <th>3</th>\n",
       "      <td>Hyundai Grand i10 Magna 1.2 Kappa VTVT</td>\n",
       "      <td>Hyundai</td>\n",
       "      <td>2014</td>\n",
       "      <td>325000</td>\n",
       "      <td>28000</td>\n",
       "      <td>Petrol</td>\n",
       "    </tr>\n",
       "    <tr>\n",
       "      <th>4</th>\n",
       "      <td>Ford EcoSport Titanium 1.5L TDCi</td>\n",
       "      <td>Ford</td>\n",
       "      <td>2014</td>\n",
       "      <td>575000</td>\n",
       "      <td>36000</td>\n",
       "      <td>Diesel</td>\n",
       "    </tr>\n",
       "    <tr>\n",
       "      <th>6</th>\n",
       "      <td>Ford Figo</td>\n",
       "      <td>Ford</td>\n",
       "      <td>2012</td>\n",
       "      <td>175000</td>\n",
       "      <td>41000</td>\n",
       "      <td>Diesel</td>\n",
       "    </tr>\n",
       "    <tr>\n",
       "      <th>...</th>\n",
       "      <td>...</td>\n",
       "      <td>...</td>\n",
       "      <td>...</td>\n",
       "      <td>...</td>\n",
       "      <td>...</td>\n",
       "      <td>...</td>\n",
       "    </tr>\n",
       "    <tr>\n",
       "      <th>883</th>\n",
       "      <td>Maruti Suzuki Ritz VXI ABS</td>\n",
       "      <td>Maruti</td>\n",
       "      <td>2011</td>\n",
       "      <td>270000</td>\n",
       "      <td>50000</td>\n",
       "      <td>Petrol</td>\n",
       "    </tr>\n",
       "    <tr>\n",
       "      <th>885</th>\n",
       "      <td>Tata Indica V2 DLE BS III</td>\n",
       "      <td>Tata</td>\n",
       "      <td>2009</td>\n",
       "      <td>110000</td>\n",
       "      <td>30000</td>\n",
       "      <td>Diesel</td>\n",
       "    </tr>\n",
       "    <tr>\n",
       "      <th>886</th>\n",
       "      <td>Toyota Corolla Altis</td>\n",
       "      <td>Toyota</td>\n",
       "      <td>2009</td>\n",
       "      <td>300000</td>\n",
       "      <td>132000</td>\n",
       "      <td>Petrol</td>\n",
       "    </tr>\n",
       "    <tr>\n",
       "      <th>888</th>\n",
       "      <td>Tata Zest XM Diesel</td>\n",
       "      <td>Tata</td>\n",
       "      <td>2018</td>\n",
       "      <td>260000</td>\n",
       "      <td>27000</td>\n",
       "      <td>Diesel</td>\n",
       "    </tr>\n",
       "    <tr>\n",
       "      <th>889</th>\n",
       "      <td>Mahindra Quanto C8</td>\n",
       "      <td>Mahindra</td>\n",
       "      <td>2013</td>\n",
       "      <td>390000</td>\n",
       "      <td>40000</td>\n",
       "      <td>Diesel</td>\n",
       "    </tr>\n",
       "  </tbody>\n",
       "</table>\n",
       "<p>816 rows × 6 columns</p>\n",
       "</div>"
      ],
      "text/plain": [
       "                                       name   company  year   Price  \\\n",
       "0      Hyundai Santro Xing XO eRLX Euro III   Hyundai  2007   80000   \n",
       "1                   Mahindra Jeep CL550 MDI  Mahindra  2006  425000   \n",
       "3    Hyundai Grand i10 Magna 1.2 Kappa VTVT   Hyundai  2014  325000   \n",
       "4          Ford EcoSport Titanium 1.5L TDCi      Ford  2014  575000   \n",
       "6                                 Ford Figo      Ford  2012  175000   \n",
       "..                                      ...       ...   ...     ...   \n",
       "883              Maruti Suzuki Ritz VXI ABS    Maruti  2011  270000   \n",
       "885               Tata Indica V2 DLE BS III      Tata  2009  110000   \n",
       "886                    Toyota Corolla Altis    Toyota  2009  300000   \n",
       "888                     Tata Zest XM Diesel      Tata  2018  260000   \n",
       "889                      Mahindra Quanto C8  Mahindra  2013  390000   \n",
       "\n",
       "     kms_driven fuel_type  \n",
       "0         45000    Petrol  \n",
       "1            40    Diesel  \n",
       "3         28000    Petrol  \n",
       "4         36000    Diesel  \n",
       "6         41000    Diesel  \n",
       "..          ...       ...  \n",
       "883       50000    Petrol  \n",
       "885       30000    Diesel  \n",
       "886      132000    Petrol  \n",
       "888       27000    Diesel  \n",
       "889       40000    Diesel  \n",
       "\n",
       "[816 rows x 6 columns]"
      ]
     },
     "execution_count": 69,
     "metadata": {},
     "output_type": "execute_result"
    }
   ],
   "source": [
    "df"
   ]
  },
  {
   "cell_type": "code",
   "execution_count": 70,
   "id": "f5c6a7f1-1586-4bdf-97c4-436f3e4a953c",
   "metadata": {},
   "outputs": [],
   "source": [
    "df=df[df['Price']<=600000]"
   ]
  },
  {
   "cell_type": "code",
   "execution_count": 71,
   "id": "2969d794-2451-4017-bd78-ded0f41aa19c",
   "metadata": {},
   "outputs": [
    {
     "data": {
      "text/html": [
       "<div>\n",
       "<style scoped>\n",
       "    .dataframe tbody tr th:only-of-type {\n",
       "        vertical-align: middle;\n",
       "    }\n",
       "\n",
       "    .dataframe tbody tr th {\n",
       "        vertical-align: top;\n",
       "    }\n",
       "\n",
       "    .dataframe thead th {\n",
       "        text-align: right;\n",
       "    }\n",
       "</style>\n",
       "<table border=\"1\" class=\"dataframe\">\n",
       "  <thead>\n",
       "    <tr style=\"text-align: right;\">\n",
       "      <th></th>\n",
       "      <th>year</th>\n",
       "      <th>Price</th>\n",
       "      <th>kms_driven</th>\n",
       "    </tr>\n",
       "  </thead>\n",
       "  <tbody>\n",
       "    <tr>\n",
       "      <th>count</th>\n",
       "      <td>693.000000</td>\n",
       "      <td>693.000000</td>\n",
       "      <td>693.000000</td>\n",
       "    </tr>\n",
       "    <tr>\n",
       "      <th>mean</th>\n",
       "      <td>2012.080808</td>\n",
       "      <td>278381.956710</td>\n",
       "      <td>47221.626263</td>\n",
       "    </tr>\n",
       "    <tr>\n",
       "      <th>std</th>\n",
       "      <td>4.054091</td>\n",
       "      <td>150033.861443</td>\n",
       "      <td>34224.349558</td>\n",
       "    </tr>\n",
       "    <tr>\n",
       "      <th>min</th>\n",
       "      <td>1995.000000</td>\n",
       "      <td>30000.000000</td>\n",
       "      <td>0.000000</td>\n",
       "    </tr>\n",
       "    <tr>\n",
       "      <th>25%</th>\n",
       "      <td>2010.000000</td>\n",
       "      <td>155555.000000</td>\n",
       "      <td>29000.000000</td>\n",
       "    </tr>\n",
       "    <tr>\n",
       "      <th>50%</th>\n",
       "      <td>2013.000000</td>\n",
       "      <td>260000.000000</td>\n",
       "      <td>42000.000000</td>\n",
       "    </tr>\n",
       "    <tr>\n",
       "      <th>75%</th>\n",
       "      <td>2015.000000</td>\n",
       "      <td>385000.000000</td>\n",
       "      <td>58000.000000</td>\n",
       "    </tr>\n",
       "    <tr>\n",
       "      <th>max</th>\n",
       "      <td>2019.000000</td>\n",
       "      <td>600000.000000</td>\n",
       "      <td>400000.000000</td>\n",
       "    </tr>\n",
       "  </tbody>\n",
       "</table>\n",
       "</div>"
      ],
      "text/plain": [
       "              year          Price     kms_driven\n",
       "count   693.000000     693.000000     693.000000\n",
       "mean   2012.080808  278381.956710   47221.626263\n",
       "std       4.054091  150033.861443   34224.349558\n",
       "min    1995.000000   30000.000000       0.000000\n",
       "25%    2010.000000  155555.000000   29000.000000\n",
       "50%    2013.000000  260000.000000   42000.000000\n",
       "75%    2015.000000  385000.000000   58000.000000\n",
       "max    2019.000000  600000.000000  400000.000000"
      ]
     },
     "execution_count": 71,
     "metadata": {},
     "output_type": "execute_result"
    }
   ],
   "source": [
    "df.describe()"
   ]
  },
  {
   "cell_type": "code",
   "execution_count": 72,
   "id": "9db04dbf-ed23-4d2d-9de3-05108a8d4abc",
   "metadata": {},
   "outputs": [
    {
     "name": "stderr",
     "output_type": "stream",
     "text": [
      "C:\\Users\\khars\\AppData\\Local\\Temp\\ipykernel_13116\\3730538541.py:1: SettingWithCopyWarning: \n",
      "A value is trying to be set on a copy of a slice from a DataFrame.\n",
      "Try using .loc[row_indexer,col_indexer] = value instead\n",
      "\n",
      "See the caveats in the documentation: https://pandas.pydata.org/pandas-docs/stable/user_guide/indexing.html#returning-a-view-versus-a-copy\n",
      "  df['name']=df['name'].str.split().str.slice(0,3).str.join(' ')\n"
     ]
    }
   ],
   "source": [
    "df['name']=df['name'].str.split().str.slice(0,3).str.join(' ')"
   ]
  },
  {
   "cell_type": "code",
   "execution_count": 73,
   "id": "a7a8421e-8756-49cf-9357-6178980146b5",
   "metadata": {},
   "outputs": [
    {
     "data": {
      "text/plain": [
       "(693, 6)"
      ]
     },
     "execution_count": 73,
     "metadata": {},
     "output_type": "execute_result"
    }
   ],
   "source": [
    "df.shape"
   ]
  },
  {
   "cell_type": "code",
   "execution_count": 74,
   "id": "0207cc6c-736f-4576-85fc-a9aad6adf044",
   "metadata": {},
   "outputs": [],
   "source": [
    "df=df.reset_index(drop=True)"
   ]
  },
  {
   "cell_type": "code",
   "execution_count": 75,
   "id": "9802f7a1-a976-4e7d-81bb-7caf632efc5a",
   "metadata": {},
   "outputs": [
    {
     "data": {
      "text/html": [
       "<div>\n",
       "<style scoped>\n",
       "    .dataframe tbody tr th:only-of-type {\n",
       "        vertical-align: middle;\n",
       "    }\n",
       "\n",
       "    .dataframe tbody tr th {\n",
       "        vertical-align: top;\n",
       "    }\n",
       "\n",
       "    .dataframe thead th {\n",
       "        text-align: right;\n",
       "    }\n",
       "</style>\n",
       "<table border=\"1\" class=\"dataframe\">\n",
       "  <thead>\n",
       "    <tr style=\"text-align: right;\">\n",
       "      <th></th>\n",
       "      <th>name</th>\n",
       "      <th>company</th>\n",
       "      <th>year</th>\n",
       "      <th>Price</th>\n",
       "      <th>kms_driven</th>\n",
       "      <th>fuel_type</th>\n",
       "    </tr>\n",
       "  </thead>\n",
       "  <tbody>\n",
       "    <tr>\n",
       "      <th>0</th>\n",
       "      <td>Hyundai Santro Xing</td>\n",
       "      <td>Hyundai</td>\n",
       "      <td>2007</td>\n",
       "      <td>80000</td>\n",
       "      <td>45000</td>\n",
       "      <td>Petrol</td>\n",
       "    </tr>\n",
       "    <tr>\n",
       "      <th>1</th>\n",
       "      <td>Mahindra Jeep CL550</td>\n",
       "      <td>Mahindra</td>\n",
       "      <td>2006</td>\n",
       "      <td>425000</td>\n",
       "      <td>40</td>\n",
       "      <td>Diesel</td>\n",
       "    </tr>\n",
       "    <tr>\n",
       "      <th>2</th>\n",
       "      <td>Hyundai Grand i10</td>\n",
       "      <td>Hyundai</td>\n",
       "      <td>2014</td>\n",
       "      <td>325000</td>\n",
       "      <td>28000</td>\n",
       "      <td>Petrol</td>\n",
       "    </tr>\n",
       "    <tr>\n",
       "      <th>3</th>\n",
       "      <td>Ford EcoSport Titanium</td>\n",
       "      <td>Ford</td>\n",
       "      <td>2014</td>\n",
       "      <td>575000</td>\n",
       "      <td>36000</td>\n",
       "      <td>Diesel</td>\n",
       "    </tr>\n",
       "    <tr>\n",
       "      <th>4</th>\n",
       "      <td>Ford Figo</td>\n",
       "      <td>Ford</td>\n",
       "      <td>2012</td>\n",
       "      <td>175000</td>\n",
       "      <td>41000</td>\n",
       "      <td>Diesel</td>\n",
       "    </tr>\n",
       "    <tr>\n",
       "      <th>...</th>\n",
       "      <td>...</td>\n",
       "      <td>...</td>\n",
       "      <td>...</td>\n",
       "      <td>...</td>\n",
       "      <td>...</td>\n",
       "      <td>...</td>\n",
       "    </tr>\n",
       "    <tr>\n",
       "      <th>688</th>\n",
       "      <td>Maruti Suzuki Ritz</td>\n",
       "      <td>Maruti</td>\n",
       "      <td>2011</td>\n",
       "      <td>270000</td>\n",
       "      <td>50000</td>\n",
       "      <td>Petrol</td>\n",
       "    </tr>\n",
       "    <tr>\n",
       "      <th>689</th>\n",
       "      <td>Tata Indica V2</td>\n",
       "      <td>Tata</td>\n",
       "      <td>2009</td>\n",
       "      <td>110000</td>\n",
       "      <td>30000</td>\n",
       "      <td>Diesel</td>\n",
       "    </tr>\n",
       "    <tr>\n",
       "      <th>690</th>\n",
       "      <td>Toyota Corolla Altis</td>\n",
       "      <td>Toyota</td>\n",
       "      <td>2009</td>\n",
       "      <td>300000</td>\n",
       "      <td>132000</td>\n",
       "      <td>Petrol</td>\n",
       "    </tr>\n",
       "    <tr>\n",
       "      <th>691</th>\n",
       "      <td>Tata Zest XM</td>\n",
       "      <td>Tata</td>\n",
       "      <td>2018</td>\n",
       "      <td>260000</td>\n",
       "      <td>27000</td>\n",
       "      <td>Diesel</td>\n",
       "    </tr>\n",
       "    <tr>\n",
       "      <th>692</th>\n",
       "      <td>Mahindra Quanto C8</td>\n",
       "      <td>Mahindra</td>\n",
       "      <td>2013</td>\n",
       "      <td>390000</td>\n",
       "      <td>40000</td>\n",
       "      <td>Diesel</td>\n",
       "    </tr>\n",
       "  </tbody>\n",
       "</table>\n",
       "<p>693 rows × 6 columns</p>\n",
       "</div>"
      ],
      "text/plain": [
       "                       name   company  year   Price  kms_driven fuel_type\n",
       "0       Hyundai Santro Xing   Hyundai  2007   80000       45000    Petrol\n",
       "1       Mahindra Jeep CL550  Mahindra  2006  425000          40    Diesel\n",
       "2         Hyundai Grand i10   Hyundai  2014  325000       28000    Petrol\n",
       "3    Ford EcoSport Titanium      Ford  2014  575000       36000    Diesel\n",
       "4                 Ford Figo      Ford  2012  175000       41000    Diesel\n",
       "..                      ...       ...   ...     ...         ...       ...\n",
       "688      Maruti Suzuki Ritz    Maruti  2011  270000       50000    Petrol\n",
       "689          Tata Indica V2      Tata  2009  110000       30000    Diesel\n",
       "690    Toyota Corolla Altis    Toyota  2009  300000      132000    Petrol\n",
       "691            Tata Zest XM      Tata  2018  260000       27000    Diesel\n",
       "692      Mahindra Quanto C8  Mahindra  2013  390000       40000    Diesel\n",
       "\n",
       "[693 rows x 6 columns]"
      ]
     },
     "execution_count": 75,
     "metadata": {},
     "output_type": "execute_result"
    }
   ],
   "source": [
    "df"
   ]
  },
  {
   "cell_type": "code",
   "execution_count": 76,
   "id": "45c8d547-dce0-47ac-ac70-5f6d0e784758",
   "metadata": {},
   "outputs": [],
   "source": [
    "import seaborn as sns\n",
    "import matplotlib.pyplot as plt"
   ]
  },
  {
   "cell_type": "code",
   "execution_count": 77,
   "id": "544cdb6e-1bd5-43cb-b32f-718b2ef574fb",
   "metadata": {},
   "outputs": [
    {
     "data": {
      "image/png": "[encoded data removed]",
      "text/plain": [
       "<Figure size 1600x1200 with 1 Axes>"
      ]
     },
     "metadata": {},
     "output_type": "display_data"
    }
   ],
   "source": [
    "plt.subplots(figsize=(16,12))\n",
    "ax=sns.boxplot(x='company',y='Price',data=df)\n",
    "plt.show()"
   ]
  },
  {
   "cell_type": "code",
   "execution_count": 78,
   "id": "9fe1525b-2e7a-4907-90cf-119cc397ecb1",
   "metadata": {},
   "outputs": [
    {
     "data": {
      "image/png": "[encoded data removed]",
      "text/plain": [
       "<Figure size 1000x800 with 1 Axes>"
      ]
     },
     "metadata": {},
     "output_type": "display_data"
    }
   ],
   "source": [
    "plt.subplots(figsize=(10,8))\n",
    "ax=sns.boxplot(x='year',y='Price',data=df)\n",
    "plt.show()"
   ]
  },
  {
   "cell_type": "code",
   "execution_count": 79,
   "id": "8337aa58-3423-4076-837e-eccd18e72fdd",
   "metadata": {},
   "outputs": [
    {
     "data": {
      "text/plain": [
       "<Axes: xlabel='fuel_type', ylabel='Price'>"
      ]
     },
     "execution_count": 79,
     "metadata": {},
     "output_type": "execute_result"
    },
    {
     "data": {
      "image/png": "[encoded data removed]",
      "text/plain": [
       "<Figure size 640x480 with 1 Axes>"
      ]
     },
     "metadata": {},
     "output_type": "display_data"
    }
   ],
   "source": [
    "sns.barplot(x='fuel_type',y='Price',data=df)"
   ]
  },
  {
   "cell_type": "code",
   "execution_count": 80,
   "id": "41b097f9-a09d-4188-9c94-e08d6578dd3a",
   "metadata": {},
   "outputs": [
    {
     "data": {
      "text/plain": [
       "Text(0, 0.5, 'KmsDriven')"
      ]
     },
     "execution_count": 80,
     "metadata": {},
     "output_type": "execute_result"
    },
    {
     "data": {
      "image/png": "[encoded data removed]",
      "text/plain": [
       "<Figure size 640x480 with 1 Axes>"
      ]
     },
     "metadata": {},
     "output_type": "display_data"
    }
   ],
   "source": [
    "plt.scatter(x='Price',y='kms_driven',data=df)\n",
    "plt.xlabel(\"Price\")\n",
    "plt.ylabel(\"KmsDriven\")"
   ]
  },
  {
   "cell_type": "code",
   "execution_count": 81,
   "id": "939eac1c-0753-4c85-ae76-3bdac1f3e267",
   "metadata": {},
   "outputs": [
    {
     "data": {
      "text/plain": [
       "array(['Hyundai Santro Xing', 'Mahindra Jeep CL550', 'Hyundai Grand i10',\n",
       "       'Ford EcoSport Titanium', 'Ford Figo', 'Hyundai Eon',\n",
       "       'Maruti Suzuki Alto', 'Skoda Fabia Classic',\n",
       "       'Maruti Suzuki Stingray', 'Hyundai Elite i20',\n",
       "       'Mahindra Scorpio SLE', 'Audi Q7', 'Mahindra Scorpio S10',\n",
       "       'Hyundai i20 Sportz', 'Maruti Suzuki Vitara', 'Mahindra Bolero DI',\n",
       "       'Maruti Suzuki Swift', 'Maruti Suzuki Wagon',\n",
       "       'Skoda Yeti Ambition', 'Maruti Suzuki Baleno',\n",
       "       'Renault Duster 110', 'Renault Duster 85', 'Honda City 1.5',\n",
       "       'Maruti Suzuki Dzire', 'Honda Amaze', 'Honda Amaze 1.5',\n",
       "       'Honda City', 'Datsun Redi GO', 'Maruti Suzuki SX4',\n",
       "       'Honda City ZX', 'Tata Indigo eCS', 'Volkswagen Polo Highline',\n",
       "       'Chevrolet Spark LS', 'Renault Duster 110PS', 'Skoda Fabia 1.2L',\n",
       "       'Renault Duster', 'Mahindra Quanto C8', 'Ford EcoSport',\n",
       "       'Honda Brio', 'Hyundai i20 Magna', 'Toyota Corolla Altis',\n",
       "       'Hyundai Verna Transform', 'BMW 3 Series', 'Maruti Suzuki A',\n",
       "       'Toyota Etios GD', 'Ford Figo Diesel', 'Chevrolet Beat LT',\n",
       "       'Hyundai i10 Magna', 'Hyundai Verna Fluidic',\n",
       "       'Maruti Suzuki Ertiga', 'Honda Amaze 1.2', 'Hyundai i20 Asta',\n",
       "       'Maruti Suzuki Eeco', 'Maruti Suzuki Esteem', 'Maruti Suzuki Ritz',\n",
       "       'Toyota Etios Liva', 'Chevrolet Spark', 'Nissan Micra XV',\n",
       "       'Chevrolet Beat', 'Tata Indica V2', 'Hindustan Motors Ambassador',\n",
       "       'Volkswagen Polo Comfortline', 'Volkswagen Polo', 'Nissan Sunny',\n",
       "       'Renault Kwid', 'Mahindra Scorpio VLX', 'Chevrolet Spark LT',\n",
       "       'Fiat Punto Emotion', 'Hyundai i10 Sportz', 'Chevrolet Beat LS',\n",
       "       'Tata Indigo CS', 'Hyundai Eon Era', 'Ford Fiesta', 'Hyundai i20',\n",
       "       'Hyundai Fluidic Verna', 'Fiat Petra ELX', 'Maruti Suzuki Zen',\n",
       "       'Mahindra Scorpio SLX', 'Toyota Innova 2.5', 'Tata Nano Cx',\n",
       "       'Tata Sumo Victa', 'Volkswagen Passat Diesel', 'Renault Scala RxL',\n",
       "       'Hyundai i20 Active', 'Mahindra Xylo E4', 'Mahindra Jeep MM',\n",
       "       'Mahindra Bolero SLE', 'Force Motors Force', 'Toyota Etios',\n",
       "       'Honda City VX', 'Renault Kwid RXT', 'Tata Aria Pleasure',\n",
       "       'Datsun GO T', 'Honda Jazz VX', 'Chevrolet Tavera Neo',\n",
       "       'Hyundai Eon Sportz', 'Tata Sumo Gold', 'Chevrolet Enjoy 1.4',\n",
       "       'Nissan Terrano XL', 'Maruti Suzuki Maruti', 'Renault Kwid 1.0',\n",
       "       'Hyundai Accent GLX', 'Honda Accord', 'Mahindra Scorpio 2.6',\n",
       "       'Honda Mobilio', 'Skoda Laura', 'Mahindra Scorpio',\n",
       "       'Tata Manza Aura', 'Chevrolet Sail UVA', 'Hyundai Elantra SX',\n",
       "       'Mahindra KUV100 K8', 'Hyundai i10', 'Hyundai Accent',\n",
       "       'Hyundai Verna', 'Skoda Rapid Elegance', 'Tata Vista Quadrajet',\n",
       "       'Chevrolet Beat Diesel', 'Hyundai Verna 1.4',\n",
       "       'Maruti Suzuki Versa', 'Tata Indigo LX', 'Volkswagen Vento Konekt',\n",
       "       'Mercedes Benz C', 'Maruti Suzuki Omni',\n",
       "       'Hyundai Sonata Transform', 'Honda Jazz S', 'Mahindra Scorpio W',\n",
       "       'Mahindra XUV500 W8', 'Honda Brio V', 'Ford Ikon 1.3',\n",
       "       'Tata Manza ELAN', 'Ford EcoSport Trend', 'Tata Indigo LS',\n",
       "       'Volkswagen Vento Highline', 'Skoda Superb 1.8',\n",
       "       'Ford Figo Duratorq', 'Mahindra Logan Diesel', 'Tata Nano GenX',\n",
       "       'Mahindra TUV300 T4', 'Ford Figo Petrol', 'Toyota Corolla H2',\n",
       "       'Hyundai Xcent Base', 'Hyundai Accent Executive', 'Tata Zest XE',\n",
       "       'Mahindra XUV500 W6', 'Maruti Suzuki 800', 'Honda Mobilio S',\n",
       "       'Hyundai Verna 1.6', 'Tata Indica', 'Honda Brio VX',\n",
       "       'Tata Nano Lx', 'Hyundai Eon Magna', 'Hyundai Eon D',\n",
       "       'Maruti Suzuki Estilo', 'Mitsubishi Lancer 1.8', 'Ford Fiesta SXi',\n",
       "       'Hyundai Getz Prime', 'Hyundai Santro', 'Chevrolet Beat PS',\n",
       "       'Tata Nano', 'Chevrolet Cruze LTZ', 'Hyundai Accent GLE',\n",
       "       'Force Motors One', 'Chevrolet Spark 1.0', 'Renault Duster 85PS',\n",
       "       'Chevrolet Enjoy', 'Hyundai Verna VGT', 'Maruti Suzuki Celerio',\n",
       "       'Tata Zest Quadrajet', 'Hyundai i10 Era', 'Tata Indigo Marina',\n",
       "       'Hyundai Xcent SX', 'Tata Nano LX', 'Mahindra Xylo E8',\n",
       "       'Tata Manza Aqua', 'Tata Venture EX', 'Skoda Octavia Classic',\n",
       "       'Ford Ikon 1.6', 'Nissan Sunny XL', 'Toyota Innova 2.0',\n",
       "       'Volkswagen Polo Trendline', 'Hyundai Elantra 1.8',\n",
       "       'Tata Indica eV2', 'Honda City SV', 'Volkswagen Vento Comfortline',\n",
       "       'Mahindra KUV100', 'Volkswagen Jetta Comfortline',\n",
       "       'Renault Duster RxL', 'Honda WR V', 'Mahindra Scorpio LX',\n",
       "       'Hyundai Santro AE', 'Mahindra Xylo D2', 'Hyundai Getz GLE',\n",
       "       'Nissan Micra XL', 'Chevrolet Tavera LS', 'Tata Tiago Revotron',\n",
       "       'Tata Tiago Revotorq', 'Ford Fusion 1.4', 'Fiat Linea Emotion',\n",
       "       'Toyota Corolla', 'Tata Sumo Grande',\n",
       "       'Volkswagen Polo Highline1.2L', 'Tata Bolt XM', 'Datsun Go Plus',\n",
       "       'Mahindra Logan', 'Chevrolet Sail 1.2', 'Tata Manza',\n",
       "       'Toyota Etios G', 'Toyota Qualis', 'Mahindra Quanto C4',\n",
       "       'Hyundai i20 Select', 'Hyundai Getz', 'Skoda Fabia',\n",
       "       'Tata Zest XM'], dtype=object)"
      ]
     },
     "execution_count": 81,
     "metadata": {},
     "output_type": "execute_result"
    }
   ],
   "source": [
    "df['name'].unique()"
   ]
  },
  {
   "cell_type": "code",
   "execution_count": 82,
   "id": "285ad7a8-ebcf-4697-8434-6319cee65eb6",
   "metadata": {},
   "outputs": [],
   "source": [
    "from sklearn.linear_model import LinearRegression\n",
    "from sklearn.model_selection import train_test_split\n",
    "from sklearn.metrics import r2_score,mean_squared_error\n",
    "from sklearn.preprocessing import LabelEncoder"
   ]
  },
  {
   "cell_type": "code",
   "execution_count": 83,
   "id": "3cb34c9b-276a-4c03-a52e-33555f32ae3b",
   "metadata": {},
   "outputs": [
    {
     "name": "stdout",
     "output_type": "stream",
     "text": [
      "<class 'pandas.core.frame.DataFrame'>\n",
      "RangeIndex: 693 entries, 0 to 692\n",
      "Data columns (total 6 columns):\n",
      " #   Column      Non-Null Count  Dtype \n",
      "---  ------      --------------  ----- \n",
      " 0   name        693 non-null    object\n",
      " 1   company     693 non-null    object\n",
      " 2   year        693 non-null    int32 \n",
      " 3   Price       693 non-null    int32 \n",
      " 4   kms_driven  693 non-null    int32 \n",
      " 5   fuel_type   693 non-null    object\n",
      "dtypes: int32(3), object(3)\n",
      "memory usage: 24.5+ KB\n"
     ]
    }
   ],
   "source": [
    "df.info()"
   ]
  },
  {
   "cell_type": "code",
   "execution_count": null,
   "id": "3ce079ee-413d-4e78-8475-72affd1668c9",
   "metadata": {},
   "outputs": [],
   "source": []
  },
  {
   "cell_type": "code",
   "execution_count": 84,
   "id": "f5f6f373-162c-44e3-927b-fb680e7fa7ab",
   "metadata": {},
   "outputs": [],
   "source": [
    "encoder=LabelEncoder()"
   ]
  },
  {
   "cell_type": "code",
   "execution_count": 85,
   "id": "6ab16863-e451-4c7d-bb5b-412d9190a3f9",
   "metadata": {},
   "outputs": [],
   "source": [
    "df['fuel_type']=encoder.fit_transform(df['fuel_type'])"
   ]
  },
  {
   "cell_type": "code",
   "execution_count": 86,
   "id": "3756709c-ea9b-4ceb-ac27-75a79db7ba06",
   "metadata": {},
   "outputs": [],
   "source": [
    "df['name']=encoder.fit_transform(df['name'])"
   ]
  },
  {
   "cell_type": "code",
   "execution_count": 87,
   "id": "58e840b7-c7fd-47fa-bbd9-8c14a48585b9",
   "metadata": {},
   "outputs": [],
   "source": [
    "df['company']=encoder.fit_transform(df['company'])"
   ]
  },
  {
   "cell_type": "code",
   "execution_count": 88,
   "id": "599a9ab8-68ba-4d70-bec2-a807ce2dd21f",
   "metadata": {},
   "outputs": [
    {
     "data": {
      "text/html": [
       "<div>\n",
       "<style scoped>\n",
       "    .dataframe tbody tr th:only-of-type {\n",
       "        vertical-align: middle;\n",
       "    }\n",
       "\n",
       "    .dataframe tbody tr th {\n",
       "        vertical-align: top;\n",
       "    }\n",
       "\n",
       "    .dataframe thead th {\n",
       "        text-align: right;\n",
       "    }\n",
       "</style>\n",
       "<table border=\"1\" class=\"dataframe\">\n",
       "  <thead>\n",
       "    <tr style=\"text-align: right;\">\n",
       "      <th></th>\n",
       "      <th>name</th>\n",
       "      <th>company</th>\n",
       "      <th>year</th>\n",
       "      <th>Price</th>\n",
       "      <th>kms_driven</th>\n",
       "      <th>fuel_type</th>\n",
       "    </tr>\n",
       "  </thead>\n",
       "  <tbody>\n",
       "    <tr>\n",
       "      <th>0</th>\n",
       "      <td>75</td>\n",
       "      <td>9</td>\n",
       "      <td>2007</td>\n",
       "      <td>80000</td>\n",
       "      <td>45000</td>\n",
       "      <td>2</td>\n",
       "    </tr>\n",
       "    <tr>\n",
       "      <th>1</th>\n",
       "      <td>97</td>\n",
       "      <td>10</td>\n",
       "      <td>2006</td>\n",
       "      <td>425000</td>\n",
       "      <td>40</td>\n",
       "      <td>0</td>\n",
       "    </tr>\n",
       "    <tr>\n",
       "      <th>2</th>\n",
       "      <td>72</td>\n",
       "      <td>9</td>\n",
       "      <td>2014</td>\n",
       "      <td>325000</td>\n",
       "      <td>28000</td>\n",
       "      <td>2</td>\n",
       "    </tr>\n",
       "    <tr>\n",
       "      <th>3</th>\n",
       "      <td>27</td>\n",
       "      <td>6</td>\n",
       "      <td>2014</td>\n",
       "      <td>575000</td>\n",
       "      <td>36000</td>\n",
       "      <td>0</td>\n",
       "    </tr>\n",
       "    <tr>\n",
       "      <th>4</th>\n",
       "      <td>31</td>\n",
       "      <td>6</td>\n",
       "      <td>2012</td>\n",
       "      <td>175000</td>\n",
       "      <td>41000</td>\n",
       "      <td>0</td>\n",
       "    </tr>\n",
       "  </tbody>\n",
       "</table>\n",
       "</div>"
      ],
      "text/plain": [
       "   name  company  year   Price  kms_driven  fuel_type\n",
       "0    75        9  2007   80000       45000          2\n",
       "1    97       10  2006  425000          40          0\n",
       "2    72        9  2014  325000       28000          2\n",
       "3    27        6  2014  575000       36000          0\n",
       "4    31        6  2012  175000       41000          0"
      ]
     },
     "execution_count": 88,
     "metadata": {},
     "output_type": "execute_result"
    }
   ],
   "source": [
    "df.head()"
   ]
  },
  {
   "cell_type": "code",
   "execution_count": 89,
   "id": "bcebfb20-8960-4444-9944-60b90db4e3c0",
   "metadata": {},
   "outputs": [],
   "source": [
    "x=df.drop(columns = ['Price'])\n",
    "y=df['Price']"
   ]
  },
  {
   "cell_type": "code",
   "execution_count": 90,
   "id": "b6ccbdf3-011a-487a-a1df-01cea35d5e4e",
   "metadata": {},
   "outputs": [],
   "source": [
    "x_train,x_test,y_train,y_test=train_test_split(x,y,test_size=0.30,random_state=44)"
   ]
  },
  {
   "cell_type": "code",
   "execution_count": 91,
   "id": "c8789cc2-a278-47a3-a64c-46da966c36e5",
   "metadata": {},
   "outputs": [
    {
     "data": {
      "text/html": [
       "<style>#sk-container-id-2 {\n",
       "  /* Definition of color scheme common for light and dark mode */\n",
       "  --sklearn-color-text: black;\n",
       "  --sklearn-color-line: gray;\n",
       "  /* Definition of color scheme for unfitted estimators */\n",
       "  --sklearn-color-unfitted-level-0: #fff5e6;\n",
       "  --sklearn-color-unfitted-level-1: #f6e4d2;\n",
       "  --sklearn-color-unfitted-level-2: #ffe0b3;\n",
       "  --sklearn-color-unfitted-level-3: chocolate;\n",
       "  /* Definition of color scheme for fitted estimators */\n",
       "  --sklearn-color-fitted-level-0: #f0f8ff;\n",
       "  --sklearn-color-fitted-level-1: #d4ebff;\n",
       "  --sklearn-color-fitted-level-2: #b3dbfd;\n",
       "  --sklearn-color-fitted-level-3: cornflowerblue;\n",
       "\n",
       "  /* Specific color for light theme */\n",
       "  --sklearn-color-text-on-default-background: var(--sg-text-color, var(--theme-code-foreground, var(--jp-content-font-color1, black)));\n",
       "  --sklearn-color-background: var(--sg-background-color, var(--theme-background, var(--jp-layout-color0, white)));\n",
       "  --sklearn-color-border-box: var(--sg-text-color, var(--theme-code-foreground, var(--jp-content-font-color1, black)));\n",
       "  --sklearn-color-icon: #696969;\n",
       "\n",
       "  @media (prefers-color-scheme: dark) {\n",
       "    /* Redefinition of color scheme for dark theme */\n",
       "    --sklearn-color-text-on-default-background: var(--sg-text-color, var(--theme-code-foreground, var(--jp-content-font-color1, white)));\n",
       "    --sklearn-color-background: var(--sg-background-color, var(--theme-background, var(--jp-layout-color0, #111)));\n",
       "    --sklearn-color-border-box: var(--sg-text-color, var(--theme-code-foreground, var(--jp-content-font-color1, white)));\n",
       "    --sklearn-color-icon: #878787;\n",
       "  }\n",
       "}\n",
       "\n",
       "#sk-container-id-2 {\n",
       "  color: var(--sklearn-color-text);\n",
       "}\n",
       "\n",
       "#sk-container-id-2 pre {\n",
       "  padding: 0;\n",
       "}\n",
       "\n",
       "#sk-container-id-2 input.sk-hidden--visually {\n",
       "  border: 0;\n",
       "  clip: rect(1px 1px 1px 1px);\n",
       "  clip: rect(1px, 1px, 1px, 1px);\n",
       "  height: 1px;\n",
       "  margin: -1px;\n",
       "  overflow: hidden;\n",
       "  padding: 0;\n",
       "  position: absolute;\n",
       "  width: 1px;\n",
       "}\n",
       "\n",
       "#sk-container-id-2 div.sk-dashed-wrapped {\n",
       "  border: 1px dashed var(--sklearn-color-line);\n",
       "  margin: 0 0.4em 0.5em 0.4em;\n",
       "  box-sizing: border-box;\n",
       "  padding-bottom: 0.4em;\n",
       "  background-color: var(--sklearn-color-background);\n",
       "}\n",
       "\n",
       "#sk-container-id-2 div.sk-container {\n",
       "  /* jupyter's `normalize.less` sets `[hidden] { display: none; }`\n",
       "     but bootstrap.min.css set `[hidden] { display: none !important; }`\n",
       "     so we also need the `!important` here to be able to override the\n",
       "     default hidden behavior on the sphinx rendered scikit-learn.org.\n",
       "     See: https://github.com/scikit-learn/scikit-learn/issues/21755 */\n",
       "  display: inline-block !important;\n",
       "  position: relative;\n",
       "}\n",
       "\n",
       "#sk-container-id-2 div.sk-text-repr-fallback {\n",
       "  display: none;\n",
       "}\n",
       "\n",
       "div.sk-parallel-item,\n",
       "div.sk-serial,\n",
       "div.sk-item {\n",
       "  /* draw centered vertical line to link estimators */\n",
       "  background-image: linear-gradient(var(--sklearn-color-text-on-default-background), var(--sklearn-color-text-on-default-background));\n",
       "  background-size: 2px 100%;\n",
       "  background-repeat: no-repeat;\n",
       "  background-position: center center;\n",
       "}\n",
       "\n",
       "/* Parallel-specific style estimator block */\n",
       "\n",
       "#sk-container-id-2 div.sk-parallel-item::after {\n",
       "  content: \"\";\n",
       "  width: 100%;\n",
       "  border-bottom: 2px solid var(--sklearn-color-text-on-default-background);\n",
       "  flex-grow: 1;\n",
       "}\n",
       "\n",
       "#sk-container-id-2 div.sk-parallel {\n",
       "  display: flex;\n",
       "  align-items: stretch;\n",
       "  justify-content: center;\n",
       "  background-color: var(--sklearn-color-background);\n",
       "  position: relative;\n",
       "}\n",
       "\n",
       "#sk-container-id-2 div.sk-parallel-item {\n",
       "  display: flex;\n",
       "  flex-direction: column;\n",
       "}\n",
       "\n",
       "#sk-container-id-2 div.sk-parallel-item:first-child::after {\n",
       "  align-self: flex-end;\n",
       "  width: 50%;\n",
       "}\n",
       "\n",
       "#sk-container-id-2 div.sk-parallel-item:last-child::after {\n",
       "  align-self: flex-start;\n",
       "  width: 50%;\n",
       "}\n",
       "\n",
       "#sk-container-id-2 div.sk-parallel-item:only-child::after {\n",
       "  width: 0;\n",
       "}\n",
       "\n",
       "/* Serial-specific style estimator block */\n",
       "\n",
       "#sk-container-id-2 div.sk-serial {\n",
       "  display: flex;\n",
       "  flex-direction: column;\n",
       "  align-items: center;\n",
       "  background-color: var(--sklearn-color-background);\n",
       "  padding-right: 1em;\n",
       "  padding-left: 1em;\n",
       "}\n",
       "\n",
       "\n",
       "/* Toggleable style: style used for estimator/Pipeline/ColumnTransformer box that is\n",
       "clickable and can be expanded/collapsed.\n",
       "- Pipeline and ColumnTransformer use this feature and define the default style\n",
       "- Estimators will overwrite some part of the style using the `sk-estimator` class\n",
       "*/\n",
       "\n",
       "/* Pipeline and ColumnTransformer style (default) */\n",
       "\n",
       "#sk-container-id-2 div.sk-toggleable {\n",
       "  /* Default theme specific background. It is overwritten whether we have a\n",
       "  specific estimator or a Pipeline/ColumnTransformer */\n",
       "  background-color: var(--sklearn-color-background);\n",
       "}\n",
       "\n",
       "/* Toggleable label */\n",
       "#sk-container-id-2 label.sk-toggleable__label {\n",
       "  cursor: pointer;\n",
       "  display: block;\n",
       "  width: 100%;\n",
       "  margin-bottom: 0;\n",
       "  padding: 0.5em;\n",
       "  box-sizing: border-box;\n",
       "  text-align: center;\n",
       "}\n",
       "\n",
       "#sk-container-id-2 label.sk-toggleable__label-arrow:before {\n",
       "  /* Arrow on the left of the label */\n",
       "  content: \"▸\";\n",
       "  float: left;\n",
       "  margin-right: 0.25em;\n",
       "  color: var(--sklearn-color-icon);\n",
       "}\n",
       "\n",
       "#sk-container-id-2 label.sk-toggleable__label-arrow:hover:before {\n",
       "  color: var(--sklearn-color-text);\n",
       "}\n",
       "\n",
       "/* Toggleable content - dropdown */\n",
       "\n",
       "#sk-container-id-2 div.sk-toggleable__content {\n",
       "  max-height: 0;\n",
       "  max-width: 0;\n",
       "  overflow: hidden;\n",
       "  text-align: left;\n",
       "  /* unfitted */\n",
       "  background-color: var(--sklearn-color-unfitted-level-0);\n",
       "}\n",
       "\n",
       "#sk-container-id-2 div.sk-toggleable__content.fitted {\n",
       "  /* fitted */\n",
       "  background-color: var(--sklearn-color-fitted-level-0);\n",
       "}\n",
       "\n",
       "#sk-container-id-2 div.sk-toggleable__content pre {\n",
       "  margin: 0.2em;\n",
       "  border-radius: 0.25em;\n",
       "  color: var(--sklearn-color-text);\n",
       "  /* unfitted */\n",
       "  background-color: var(--sklearn-color-unfitted-level-0);\n",
       "}\n",
       "\n",
       "#sk-container-id-2 div.sk-toggleable__content.fitted pre {\n",
       "  /* unfitted */\n",
       "  background-color: var(--sklearn-color-fitted-level-0);\n",
       "}\n",
       "\n",
       "#sk-container-id-2 input.sk-toggleable__control:checked~div.sk-toggleable__content {\n",
       "  /* Expand drop-down */\n",
       "  max-height: 200px;\n",
       "  max-width: 100%;\n",
       "  overflow: auto;\n",
       "}\n",
       "\n",
       "#sk-container-id-2 input.sk-toggleable__control:checked~label.sk-toggleable__label-arrow:before {\n",
       "  content: \"▾\";\n",
       "}\n",
       "\n",
       "/* Pipeline/ColumnTransformer-specific style */\n",
       "\n",
       "#sk-container-id-2 div.sk-label input.sk-toggleable__control:checked~label.sk-toggleable__label {\n",
       "  color: var(--sklearn-color-text);\n",
       "  background-color: var(--sklearn-color-unfitted-level-2);\n",
       "}\n",
       "\n",
       "#sk-container-id-2 div.sk-label.fitted input.sk-toggleable__control:checked~label.sk-toggleable__label {\n",
       "  background-color: var(--sklearn-color-fitted-level-2);\n",
       "}\n",
       "\n",
       "/* Estimator-specific style */\n",
       "\n",
       "/* Colorize estimator box */\n",
       "#sk-container-id-2 div.sk-estimator input.sk-toggleable__control:checked~label.sk-toggleable__label {\n",
       "  /* unfitted */\n",
       "  background-color: var(--sklearn-color-unfitted-level-2);\n",
       "}\n",
       "\n",
       "#sk-container-id-2 div.sk-estimator.fitted input.sk-toggleable__control:checked~label.sk-toggleable__label {\n",
       "  /* fitted */\n",
       "  background-color: var(--sklearn-color-fitted-level-2);\n",
       "}\n",
       "\n",
       "#sk-container-id-2 div.sk-label label.sk-toggleable__label,\n",
       "#sk-container-id-2 div.sk-label label {\n",
       "  /* The background is the default theme color */\n",
       "  color: var(--sklearn-color-text-on-default-background);\n",
       "}\n",
       "\n",
       "/* On hover, darken the color of the background */\n",
       "#sk-container-id-2 div.sk-label:hover label.sk-toggleable__label {\n",
       "  color: var(--sklearn-color-text);\n",
       "  background-color: var(--sklearn-color-unfitted-level-2);\n",
       "}\n",
       "\n",
       "/* Label box, darken color on hover, fitted */\n",
       "#sk-container-id-2 div.sk-label.fitted:hover label.sk-toggleable__label.fitted {\n",
       "  color: var(--sklearn-color-text);\n",
       "  background-color: var(--sklearn-color-fitted-level-2);\n",
       "}\n",
       "\n",
       "/* Estimator label */\n",
       "\n",
       "#sk-container-id-2 div.sk-label label {\n",
       "  font-family: monospace;\n",
       "  font-weight: bold;\n",
       "  display: inline-block;\n",
       "  line-height: 1.2em;\n",
       "}\n",
       "\n",
       "#sk-container-id-2 div.sk-label-container {\n",
       "  text-align: center;\n",
       "}\n",
       "\n",
       "/* Estimator-specific */\n",
       "#sk-container-id-2 div.sk-estimator {\n",
       "  font-family: monospace;\n",
       "  border: 1px dotted var(--sklearn-color-border-box);\n",
       "  border-radius: 0.25em;\n",
       "  box-sizing: border-box;\n",
       "  margin-bottom: 0.5em;\n",
       "  /* unfitted */\n",
       "  background-color: var(--sklearn-color-unfitted-level-0);\n",
       "}\n",
       "\n",
       "#sk-container-id-2 div.sk-estimator.fitted {\n",
       "  /* fitted */\n",
       "  background-color: var(--sklearn-color-fitted-level-0);\n",
       "}\n",
       "\n",
       "/* on hover */\n",
       "#sk-container-id-2 div.sk-estimator:hover {\n",
       "  /* unfitted */\n",
       "  background-color: var(--sklearn-color-unfitted-level-2);\n",
       "}\n",
       "\n",
       "#sk-container-id-2 div.sk-estimator.fitted:hover {\n",
       "  /* fitted */\n",
       "  background-color: var(--sklearn-color-fitted-level-2);\n",
       "}\n",
       "\n",
       "/* Specification for estimator info (e.g. \"i\" and \"?\") */\n",
       "\n",
       "/* Common style for \"i\" and \"?\" */\n",
       "\n",
       ".sk-estimator-doc-link,\n",
       "a:link.sk-estimator-doc-link,\n",
       "a:visited.sk-estimator-doc-link {\n",
       "  float: right;\n",
       "  font-size: smaller;\n",
       "  line-height: 1em;\n",
       "  font-family: monospace;\n",
       "  background-color: var(--sklearn-color-background);\n",
       "  border-radius: 1em;\n",
       "  height: 1em;\n",
       "  width: 1em;\n",
       "  text-decoration: none !important;\n",
       "  margin-left: 1ex;\n",
       "  /* unfitted */\n",
       "  border: var(--sklearn-color-unfitted-level-1) 1pt solid;\n",
       "  color: var(--sklearn-color-unfitted-level-1);\n",
       "}\n",
       "\n",
       ".sk-estimator-doc-link.fitted,\n",
       "a:link.sk-estimator-doc-link.fitted,\n",
       "a:visited.sk-estimator-doc-link.fitted {\n",
       "  /* fitted */\n",
       "  border: var(--sklearn-color-fitted-level-1) 1pt solid;\n",
       "  color: var(--sklearn-color-fitted-level-1);\n",
       "}\n",
       "\n",
       "/* On hover */\n",
       "div.sk-estimator:hover .sk-estimator-doc-link:hover,\n",
       ".sk-estimator-doc-link:hover,\n",
       "div.sk-label-container:hover .sk-estimator-doc-link:hover,\n",
       ".sk-estimator-doc-link:hover {\n",
       "  /* unfitted */\n",
       "  background-color: var(--sklearn-color-unfitted-level-3);\n",
       "  color: var(--sklearn-color-background);\n",
       "  text-decoration: none;\n",
       "}\n",
       "\n",
       "div.sk-estimator.fitted:hover .sk-estimator-doc-link.fitted:hover,\n",
       ".sk-estimator-doc-link.fitted:hover,\n",
       "div.sk-label-container:hover .sk-estimator-doc-link.fitted:hover,\n",
       ".sk-estimator-doc-link.fitted:hover {\n",
       "  /* fitted */\n",
       "  background-color: var(--sklearn-color-fitted-level-3);\n",
       "  color: var(--sklearn-color-background);\n",
       "  text-decoration: none;\n",
       "}\n",
       "\n",
       "/* Span, style for the box shown on hovering the info icon */\n",
       ".sk-estimator-doc-link span {\n",
       "  display: none;\n",
       "  z-index: 9999;\n",
       "  position: relative;\n",
       "  font-weight: normal;\n",
       "  right: .2ex;\n",
       "  padding: .5ex;\n",
       "  margin: .5ex;\n",
       "  width: min-content;\n",
       "  min-width: 20ex;\n",
       "  max-width: 50ex;\n",
       "  color: var(--sklearn-color-text);\n",
       "  box-shadow: 2pt 2pt 4pt #999;\n",
       "  /* unfitted */\n",
       "  background: var(--sklearn-color-unfitted-level-0);\n",
       "  border: .5pt solid var(--sklearn-color-unfitted-level-3);\n",
       "}\n",
       "\n",
       ".sk-estimator-doc-link.fitted span {\n",
       "  /* fitted */\n",
       "  background: var(--sklearn-color-fitted-level-0);\n",
       "  border: var(--sklearn-color-fitted-level-3);\n",
       "}\n",
       "\n",
       ".sk-estimator-doc-link:hover span {\n",
       "  display: block;\n",
       "}\n",
       "\n",
       "/* \"?\"-specific style due to the `<a>` HTML tag */\n",
       "\n",
       "#sk-container-id-2 a.estimator_doc_link {\n",
       "  float: right;\n",
       "  font-size: 1rem;\n",
       "  line-height: 1em;\n",
       "  font-family: monospace;\n",
       "  background-color: var(--sklearn-color-background);\n",
       "  border-radius: 1rem;\n",
       "  height: 1rem;\n",
       "  width: 1rem;\n",
       "  text-decoration: none;\n",
       "  /* unfitted */\n",
       "  color: var(--sklearn-color-unfitted-level-1);\n",
       "  border: var(--sklearn-color-unfitted-level-1) 1pt solid;\n",
       "}\n",
       "\n",
       "#sk-container-id-2 a.estimator_doc_link.fitted {\n",
       "  /* fitted */\n",
       "  border: var(--sklearn-color-fitted-level-1) 1pt solid;\n",
       "  color: var(--sklearn-color-fitted-level-1);\n",
       "}\n",
       "\n",
       "/* On hover */\n",
       "#sk-container-id-2 a.estimator_doc_link:hover {\n",
       "  /* unfitted */\n",
       "  background-color: var(--sklearn-color-unfitted-level-3);\n",
       "  color: var(--sklearn-color-background);\n",
       "  text-decoration: none;\n",
       "}\n",
       "\n",
       "#sk-container-id-2 a.estimator_doc_link.fitted:hover {\n",
       "  /* fitted */\n",
       "  background-color: var(--sklearn-color-fitted-level-3);\n",
       "}\n",
       "</style><div id=\"sk-container-id-2\" class=\"sk-top-container\"><div class=\"sk-text-repr-fallback\"><pre>LinearRegression()</pre><b>In a Jupyter environment, please rerun this cell to show the HTML representation or trust the notebook. <br />On GitHub, the HTML representation is unable to render, please try loading this page with nbviewer.org.</b></div><div class=\"sk-container\" hidden><div class=\"sk-item\"><div class=\"sk-estimator fitted sk-toggleable\"><input class=\"sk-toggleable__control sk-hidden--visually\" id=\"sk-estimator-id-2\" type=\"checkbox\" checked><label for=\"sk-estimator-id-2\" class=\"sk-toggleable__label fitted sk-toggleable__label-arrow fitted\">&nbsp;&nbsp;LinearRegression<a class=\"sk-estimator-doc-link fitted\" rel=\"noreferrer\" target=\"_blank\" href=\"https://scikit-learn.org/1.4/modules/generated/sklearn.linear_model.LinearRegression.html\">?<span>Documentation for LinearRegression</span></a><span class=\"sk-estimator-doc-link fitted\">i<span>Fitted</span></span></label><div class=\"sk-toggleable__content fitted\"><pre>LinearRegression()</pre></div> </div></div></div></div>"
      ],
      "text/plain": [
       "LinearRegression()"
      ]
     },
     "execution_count": 91,
     "metadata": {},
     "output_type": "execute_result"
    }
   ],
   "source": [
    "model = LinearRegression()\n",
    "model.fit(x_train, y_train)"
   ]
  },
  {
   "cell_type": "code",
   "execution_count": 92,
   "id": "ea43e3f8-81c0-4a65-b038-a64a15043776",
   "metadata": {},
   "outputs": [
    {
     "name": "stdout",
     "output_type": "stream",
     "text": [
      "[-6.52528760e+02  6.48683598e+03  1.73434473e+04 -7.87856057e-01\n",
      " -3.57319577e+04] -34539321.52692574\n"
     ]
    }
   ],
   "source": [
    "print(model.coef_,model.intercept_)"
   ]
  },
  {
   "cell_type": "code",
   "execution_count": 93,
   "id": "2e77cf90-a1b8-40cf-acdf-29aa7ff40759",
   "metadata": {},
   "outputs": [],
   "source": [
    "y_pred=model.predict(x_test)"
   ]
  },
  {
   "cell_type": "code",
   "execution_count": 94,
   "id": "9a227c90-259b-49b2-960a-a0f1811f927f",
   "metadata": {},
   "outputs": [
    {
     "name": "stdout",
     "output_type": "stream",
     "text": [
      "r2 score :  0.3615655900656426\n",
      "RMSE :  115683.52166266346\n"
     ]
    }
   ],
   "source": [
    "print(\"r2 score : \",r2_score(y_test,y_pred))\n",
    "print(\"RMSE : \",np.sqrt(mean_squared_error(y_test,y_pred)))"
   ]
  },
  {
   "cell_type": "code",
   "execution_count": 96,
   "id": "38b78bbf",
   "metadata": {},
   "outputs": [],
   "source": [
    "file_name='car_price.pkl'\n",
    "pickle.dump(model,open(file_name,'wb'))"
   ]
  },
  {
   "cell_type": "code",
   "execution_count": 95,
   "id": "bd64e58b",
   "metadata": {},
   "outputs": [
    {
     "data": {
      "text/html": [
       "<div>\n",
       "<style scoped>\n",
       "    .dataframe tbody tr th:only-of-type {\n",
       "        vertical-align: middle;\n",
       "    }\n",
       "\n",
       "    .dataframe tbody tr th {\n",
       "        vertical-align: top;\n",
       "    }\n",
       "\n",
       "    .dataframe thead th {\n",
       "        text-align: right;\n",
       "    }\n",
       "</style>\n",
       "<table border=\"1\" class=\"dataframe\">\n",
       "  <thead>\n",
       "    <tr style=\"text-align: right;\">\n",
       "      <th></th>\n",
       "      <th>name</th>\n",
       "      <th>company</th>\n",
       "      <th>year</th>\n",
       "      <th>Price</th>\n",
       "      <th>kms_driven</th>\n",
       "      <th>fuel_type</th>\n",
       "    </tr>\n",
       "  </thead>\n",
       "  <tbody>\n",
       "    <tr>\n",
       "      <th>0</th>\n",
       "      <td>75</td>\n",
       "      <td>9</td>\n",
       "      <td>2007</td>\n",
       "      <td>80000</td>\n",
       "      <td>45000</td>\n",
       "      <td>2</td>\n",
       "    </tr>\n",
       "    <tr>\n",
       "      <th>1</th>\n",
       "      <td>97</td>\n",
       "      <td>10</td>\n",
       "      <td>2006</td>\n",
       "      <td>425000</td>\n",
       "      <td>40</td>\n",
       "      <td>0</td>\n",
       "    </tr>\n",
       "    <tr>\n",
       "      <th>2</th>\n",
       "      <td>72</td>\n",
       "      <td>9</td>\n",
       "      <td>2014</td>\n",
       "      <td>325000</td>\n",
       "      <td>28000</td>\n",
       "      <td>2</td>\n",
       "    </tr>\n",
       "    <tr>\n",
       "      <th>3</th>\n",
       "      <td>27</td>\n",
       "      <td>6</td>\n",
       "      <td>2014</td>\n",
       "      <td>575000</td>\n",
       "      <td>36000</td>\n",
       "      <td>0</td>\n",
       "    </tr>\n",
       "  </tbody>\n",
       "</table>\n",
       "</div>"
      ],
      "text/plain": [
       "   name  company  year   Price  kms_driven  fuel_type\n",
       "0    75        9  2007   80000       45000          2\n",
       "1    97       10  2006  425000          40          0\n",
       "2    72        9  2014  325000       28000          2\n",
       "3    27        6  2014  575000       36000          0"
      ]
     },
     "execution_count": 95,
     "metadata": {},
     "output_type": "execute_result"
    }
   ],
   "source": [
    "df.head(4)"
   ]
  },
  {
   "cell_type": "code",
   "execution_count": 108,
   "id": "8dae369f",
   "metadata": {},
   "outputs": [
    {
     "name": "stdout",
     "output_type": "stream",
     "text": [
      "Predicted price for Hyundai Santro Xing of company Hyundai. Purchased in  2010 and driven 4000km has fuel type Diesel : Rs. 317856.14\n"
     ]
    },
    {
     "name": "stderr",
     "output_type": "stream",
     "text": [
      "c:\\Users\\khars\\AppData\\Local\\Programs\\Python\\Python312\\Lib\\site-packages\\sklearn\\base.py:493: UserWarning: X does not have valid feature names, but LinearRegression was fitted with feature names\n",
      "  warnings.warn(\n"
     ]
    }
   ],
   "source": [
    "name = 'Hyundai Santro Xing'\n",
    "company = 'Hyundai'\n",
    "year = 2010\n",
    "kms_driven = 4000\n",
    "fuel_type = 'Diesel'\n",
    "\n",
    "predicted_price = predict_car_price(model, name, company, year, kms_driven,fuel_type)\n",
    "print(f\"Predicted price for {name} of company {company}. Purchased in  {year} and driven {kms_driven}km has fuel type {fuel_type} : Rs. {predicted_price:.2f}\")"
   ]
  },
  {
   "cell_type": "code",
   "execution_count": 105,
   "metadata": {},
   "outputs": [],
   "source": [
    "# Step 7: Code for User Input to Predict Car Prices\n",
    "def predict_car_price(model, name, company, year, kms_driven,fuel_type):\n",
    "    car_name_encoded = encoder.fit_transform([name])[0]\n",
    "    company_encoded = encoder.fit_transform([company])[0]\n",
    "    fuel_encoded = encoder.fit_transform([fuel_type])[0]\n",
    "    features = [[car_name_encoded, company_encoded, year, kms_driven,fuel_encoded]]\n",
    "    price_prediction = model.predict(features)[0]\n",
    "    return price_prediction\n",
    "\n",
    "#df['company']=encoder.fit_transform(df['company'])"
   ]
  },
  {
   "cell_type": "code",
   "execution_count": null,
   "metadata": {},
   "outputs": [],
   "source": [
    "Hyundai Santro Xing\tHyundai\t2007\t80000\t45000\tPetrol"
   ]
  }
 ],
 "metadata": {
  "kernelspec": {
   "display_name": "Python 3 (ipykernel)",
   "language": "python",
   "name": "python3"
  },
  "language_info": {
   "codemirror_mode": {
    "name": "ipython",
    "version": 3
   },
   "file_extension": ".py",
   "mimetype": "text/x-python",
   "name": "python",
   "nbconvert_exporter": "python",
   "pygments_lexer": "ipython3",
   "version": "3.12.2"
  }
 },
 "nbformat": 4,
 "nbformat_minor": 5
}
